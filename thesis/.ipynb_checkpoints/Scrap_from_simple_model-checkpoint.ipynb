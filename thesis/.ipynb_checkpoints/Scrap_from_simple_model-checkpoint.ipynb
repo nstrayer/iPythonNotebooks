{
 "metadata": {
  "name": ""
 },
 "nbformat": 3,
 "nbformat_minor": 0,
 "worksheets": [
  {
   "cells": [
    {
     "cell_type": "code",
     "collapsed": false,
     "input": [
      "#Working V function\n",
      "def V(x, time): \n",
      "    Total_time = 40\n",
      "    if time == (Total_time - 1): #These are simply a slightly re-written version of the H_Ui functions, for t = T V = R_1\n",
      "        u_1 = (1.00 - z_1) * ((1-p_1)  * R_1( X0(x) ) + \\\n",
      "                       (.25) * p_1     * R_1( X1(x) ) + \\\n",
      "                       (.5)  * p_1     * R_1( X2(x) ) + \\\n",
      "                       (.25) * p_1     * R_1( X3(x) ) )\n",
      "\n",
      "        u_2 = (1.00 - z_2) * ((1-p_2)  * R_1( X0(x) ) + \\\n",
      "                       (.25) * p_2     * R_1( X1(x) ) + \\\n",
      "                       (.5)  * p_2     * R_1( X2(x) ) + \\\n",
      "                       (.25) * p_2     * R_1( X3(x) ) )\n",
      "        if u_1 > u_2: \n",
      "            res = u_1\n",
      "            choice = 1\n",
      "        else: \n",
      "            res = u_2 \n",
      "            choice = 2\n",
      "        \n",
      "    else:     \n",
      "        if H_U1(x,time) > H_U2(x,time): \n",
      "            res = H_U1(x,time)\n",
      "            choice = 1\n",
      "        else: \n",
      "            res = H_U2(x,time)\n",
      "            choice = 2\n",
      "    return res, choice \n",
      "    #return choice \n",
      "\n",
      "#Working H functions\n",
      "def H_U1(x,t): \n",
      "    #V is the maximum value of H_Ui at the last time step t+1\n",
      "    res = (1 - z_1) * ((1    - p_1)* V(X0(x),t + 1) + \\\n",
      "                       (.25) * p_1 * V(X1(x),t + 1) + \\\n",
      "                       (.5)  * p_1 * V(X2(x),t + 1) + \\\n",
      "                       (.25) * p_1 * V(X3(x),t + 1) )\n",
      "    return res \n",
      "\n",
      "def H_U2(x,t): \n",
      "    #V is the amximum value of H_Ui at the last time step t+1\n",
      "    res = (1 - z_2) * ((1    - p_2)* V(X0(x),t + 1) + \\\n",
      "                       (.25) * p_2 * V(X1(x),t + 1) + \\\n",
      "                       (.5)  * p_2 * V(X2(x),t + 1) + \\\n",
      "                       (.25) * p_2 * V(X3(x),t + 1) )\n",
      "    return res \n"
     ],
     "language": "python",
     "metadata": {},
     "outputs": [],
     "prompt_number": 1
    },
    {
     "cell_type": "code",
     "collapsed": false,
     "input": [],
     "language": "python",
     "metadata": {},
     "outputs": []
    }
   ],
   "metadata": {}
  }
 ]
}