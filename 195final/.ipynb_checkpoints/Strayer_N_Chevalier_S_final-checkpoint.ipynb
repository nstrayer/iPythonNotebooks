{
 "metadata": {
  "name": ""
 },
 "nbformat": 3,
 "nbformat_minor": 0,
 "worksheets": [
  {
   "cells": [
    {
     "cell_type": "markdown",
     "metadata": {},
     "source": [
      "#Why so happy?\n",
      "### \u201cFolks are usually about as happy as they make their minds up to be.\u201d \n",
      "                                                        \u2015 Abraham Lincoln\n",
      "    \n",
      "---\n",
      "The big benchmark for the welfare of the United States as a whole is its GDP or Gross Domestic Profit. This is a figure presented in dollars. The US leads the world in this indicator, so naturally we must have the happiest citizens, but in fact we do not. We're not even in the [top ten](http://unsdsn.org/wp-content/uploads/2014/02/WorldHappinessReport2013_online.pdf). \n",
      "\n",
      "While GDP is an important indicator happiness is as well. Buhtan has left behind GPD in favor of GNH or\n",
      "[Gross National Happiness](http://www.grossnationalhappiness.com/). With the explosion of social media in the past few years we now have an unprecedented ability to monitor the happiness levels of our citizens. Professors Chris Danforth and Peter Dodds along with post doc Lewis Mitchell have done just that. The have created the [Hedonometer](hedonometer.org), this monitors the happiness of the population as a whole based upon the word content of tweets. \n",
      "\n",
      "Most tweets are sent from smartphones, and most smartphones have GPS functionality thus there is location data present in the tweets. Kindly Lewis Mitchell has provided us with the raw data on the happiness of hundreds of cities around the country. We will utilize this data to visualize the distribution of happiness and compare it with the distribution of other factors.  We are looking to piece together geographic correlations of factors with happiness. \n",
      "\n",
      "The data sets we have initially set out to compare along with their corresponding hypotheses: \n",
      "\n",
      "* [Climate data:](http://www.ncdc.noaa.gov/cdo-web/search) \n",
      "    * Do areas that have \"poor\" weather tend to be sadder?\n",
      "\n",
      "* [Economic indicator data:](http://catalog.data.gov/dataset/economic-indicator-database-search)\n",
      "    * Does a poorly performing economy have an effect on the population's happiness?\n",
      "\n",
      "* [Population data:](http://catalog.data.gov/dataset/population-estimates)\n",
      "    * Does seclusion or inclusion lead to happiness or sadness?\n",
      "\n",
      "* [New York SAT results:](https://data.cityofnewyork.us/Education/SAT-College-Board-2010-School-Level-Results/zt9s-n5aj),[Dropout data:](http://catalog.data.gov/dataset/state-dropout-and-completion-data)\n",
      "    * Are people dropping out of school more often in \"sad\" areas?\n",
      "\n",
      "* [Crime:](http://catalog.data.gov/dataset/2008-crime-in-the-united-states), [San Fran crime data](https://data.sfgov.org/Public-Safety/Map-Crime-Incidents-Previous-Three-Months/gxxq-x39z) (updated regularly): \n",
      "    * Do crime rates have an effect?\n",
      "\n",
      "* [Elevation data:](http://catalog.data.gov/dataset/national-elevation-dataset-ned)\n",
      "    * Are all the happy people in CO simply high on the lack of oxygen from their elevation?\n",
      "\n",
      "* [Fluorescence data:](http://www.nasa.gov/content/goddard/seeing-photosynthesis-from-space-nasa-scientists-use-satellites-to-measure-plant-health/)\n",
      "    * Haven\u2019t found the raw data for this yet, but it provides very interesting information to compare with hapiness. It is satellite data that indicates the intensity of photosynthesis in an area. Do areas that have more photosynthesis or greener areas lead to happier people?\n",
      "\n",
      "* [Strava bike data:](http://strava.github.io/api/)\n",
      "    * Do people bike more in happy areas or are areas happy because people bike there? Or do people hate bikers?\n",
      "\n",
      "* [Restaurant data:](https://locu.com/developers-and-partners/)\n",
      "    * Napa, CA is a well known wine town and because alcohol/wine are \u201chappy\u201d words it seems obvious that there should be a correlation of vinyards to happiness there. Do these effects carry over to other areas? Are places with more vegan options happier?\n",
      "\n",
      "## Python add ons: \n",
      "\n",
      "[Open Heat Map](https://github.com/petewarden/openheatmap): This is a nice Python package that allows cool easy map visualizations. It comes recomended by Hilary Mason. \n",
      "\n",
      "---\n",
      "## Let's read in some of the happiness data:"
     ]
    },
    {
     "cell_type": "code",
     "collapsed": false,
     "input": [
      "import csv \n",
      "import pandas as pd\n",
      "import matplotlib.pyplot as plt\n",
      "nicered = \"#E6072A\"  #stealing these from you, gracias.\n",
      "niceblu = \"#424FA4\"\n",
      "nicegrn = \"#6DC048\""
     ],
     "language": "python",
     "metadata": {},
     "outputs": [],
     "prompt_number": 2
    },
    {
     "cell_type": "markdown",
     "metadata": {},
     "source": [
      "###Happies Cities:"
     ]
    },
    {
     "cell_type": "code",
     "collapsed": false,
     "input": [
      "df = pd.read_csv(\"happiestCities2011.csv\")\n",
      "\n",
      "df.head()"
     ],
     "language": "python",
     "metadata": {},
     "outputs": [
      {
       "html": [
        "<div style=\"max-height:1000px;max-width:1500px;overflow:auto;\">\n",
        "<table border=\"1\" class=\"dataframe\">\n",
        "  <thead>\n",
        "    <tr style=\"text-align: right;\">\n",
        "      <th></th>\n",
        "      <th>rank</th>\n",
        "      <th>city</th>\n",
        "      <th>happiness</th>\n",
        "      <th>tweetNumber</th>\n",
        "    </tr>\n",
        "  </thead>\n",
        "  <tbody>\n",
        "    <tr>\n",
        "      <th>0</th>\n",
        "      <td> 1</td>\n",
        "      <td>                                     Napa, CA</td>\n",
        "      <td> 6.25</td>\n",
        "      <td> 13117</td>\n",
        "    </tr>\n",
        "    <tr>\n",
        "      <th>1</th>\n",
        "      <td> 2</td>\n",
        "      <td>                              Idaho Falls, ID</td>\n",
        "      <td> 6.21</td>\n",
        "      <td> 14529</td>\n",
        "    </tr>\n",
        "    <tr>\n",
        "      <th>2</th>\n",
        "      <td> 3</td>\n",
        "      <td>                                 Longmont, CO</td>\n",
        "      <td> 6.20</td>\n",
        "      <td>  4956</td>\n",
        "    </tr>\n",
        "    <tr>\n",
        "      <th>3</th>\n",
        "      <td> 4</td>\n",
        "      <td> Mission Viejo--Lake Forest--San Clemente, CA</td>\n",
        "      <td> 6.20</td>\n",
        "      <td> 43511</td>\n",
        "    </tr>\n",
        "    <tr>\n",
        "      <th>4</th>\n",
        "      <td> 5</td>\n",
        "      <td>                              Simi Valley, CA</td>\n",
        "      <td> 6.19</td>\n",
        "      <td> 13128</td>\n",
        "    </tr>\n",
        "  </tbody>\n",
        "</table>\n",
        "</div>"
       ],
       "metadata": {},
       "output_type": "pyout",
       "prompt_number": 92,
       "text": [
        "   rank                                          city  happiness  tweetNumber\n",
        "0     1                                      Napa, CA       6.25        13117\n",
        "1     2                               Idaho Falls, ID       6.21        14529\n",
        "2     3                                  Longmont, CO       6.20         4956\n",
        "3     4  Mission Viejo--Lake Forest--San Clemente, CA       6.20        43511\n",
        "4     5                               Simi Valley, CA       6.19        13128"
       ]
      }
     ],
     "prompt_number": 92
    },
    {
     "cell_type": "markdown",
     "metadata": {},
     "source": [
      "###Sadest Cities:"
     ]
    },
    {
     "cell_type": "code",
     "collapsed": false,
     "input": [
      "df.tail()"
     ],
     "language": "python",
     "metadata": {},
     "outputs": [
      {
       "html": [
        "<div style=\"max-height:1000px;max-width:1500px;overflow:auto;\">\n",
        "<table border=\"1\" class=\"dataframe\">\n",
        "  <thead>\n",
        "    <tr style=\"text-align: right;\">\n",
        "      <th></th>\n",
        "      <th>rank</th>\n",
        "      <th>city</th>\n",
        "      <th>happiness</th>\n",
        "      <th>tweetNumber</th>\n",
        "    </tr>\n",
        "  </thead>\n",
        "  <tbody>\n",
        "    <tr>\n",
        "      <th>368</th>\n",
        "      <td> 369</td>\n",
        "      <td>     Monroe, LA</td>\n",
        "      <td> 5.83</td>\n",
        "      <td>  2896</td>\n",
        "    </tr>\n",
        "    <tr>\n",
        "      <th>369</th>\n",
        "      <td> 370</td>\n",
        "      <td> Shreveport, LA</td>\n",
        "      <td> 5.83</td>\n",
        "      <td> 15378</td>\n",
        "    </tr>\n",
        "    <tr>\n",
        "      <th>370</th>\n",
        "      <td> 371</td>\n",
        "      <td> Texas City, TX</td>\n",
        "      <td> 5.82</td>\n",
        "      <td>  1696</td>\n",
        "    </tr>\n",
        "    <tr>\n",
        "      <th>371</th>\n",
        "      <td> 372</td>\n",
        "      <td>     Albany, GA</td>\n",
        "      <td> 5.82</td>\n",
        "      <td>   586</td>\n",
        "    </tr>\n",
        "    <tr>\n",
        "      <th>372</th>\n",
        "      <td> 373</td>\n",
        "      <td>   Beaumont, TX</td>\n",
        "      <td> 5.82</td>\n",
        "      <td>  2197</td>\n",
        "    </tr>\n",
        "  </tbody>\n",
        "</table>\n",
        "</div>"
       ],
       "metadata": {},
       "output_type": "pyout",
       "prompt_number": 73,
       "text": [
        "     rank            city  happiness  tweetNumber\n",
        "368   369      Monroe, LA       5.83         2896\n",
        "369   370  Shreveport, LA       5.83        15378\n",
        "370   371  Texas City, TX       5.82         1696\n",
        "371   372      Albany, GA       5.82          586\n",
        "372   373    Beaumont, TX       5.82         2197"
       ]
      }
     ],
     "prompt_number": 73
    },
    {
     "cell_type": "markdown",
     "metadata": {},
     "source": [
      "###A quick preliminary plot of the data:"
     ]
    },
    {
     "cell_type": "code",
     "collapsed": false,
     "input": [
      "plt.plot(df[\"happiness\"],df[\"tweetNumber\"],'o', c = niceblu)\n",
      "\n",
      "highVal = df[(df['tweetNumber'] > 450000)]\n",
      "\n",
      "for entry in highVal.index.values: \n",
      "    plt.annotate(highVal.city[entry], xy=(highVal.happiness[entry], highVal.tweetNumber[entry]), \\\n",
      "                 xytext=((highVal.happiness[entry] + .005, highVal.tweetNumber[entry]-1000)))\n",
      "\n",
      "plt.annotate(df.city[0], xy=(df.happiness[0], df.tweetNumber[0]), \\\n",
      "             xytext=((df.happiness[0]-.01, df.tweetNumber[0]+40000)))\n",
      "\n",
      "plt.annotate(df.city[len(df)-1], xy=(df.happiness[len(df)-1], df.tweetNumber[len(df)-1]), \\\n",
      "             xytext=((df.happiness[len(df)-1] - .017, df.tweetNumber[len(df)-1]+40000)))\n",
      "\n",
      "plt.title(\"Number of tweets to happiness plot\")\n",
      "plt.ylabel(\"Number of tweets\")\n",
      "plt.xlabel(\"Happiness value\")\n",
      "plt.xlim([5.8,6.27])\n",
      "plt.gcf().set_size_inches(16,10)"
     ],
     "language": "python",
     "metadata": {},
     "outputs": [
      {
       "metadata": {},
       "output_type": "display_data",
       "png": "[encoded data removed]",
       "text": [
        "<matplotlib.figure.Figure at 0x110550850>"
       ]
      }
     ],
     "prompt_number": 120
    },
    {
     "cell_type": "markdown",
     "metadata": {},
     "source": [
      "## What to take from initial analysis: \n",
      "\n",
      "It is obvious that there are some discrepencies in where the tweets were pulled from. Cheyenne, WY certianly doesnt seem like it should have more tweets than New York, NY. We will keep this in mind when performing any analysis, but we don't think that it will cause any problems as the normalization that went into the happiness score should take care of it. "
     ]
    }
   ],
   "metadata": {}
  }
 ]
}