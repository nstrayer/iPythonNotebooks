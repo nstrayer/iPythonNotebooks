{
 "metadata": {
  "name": ""
 },
 "nbformat": 3,
 "nbformat_minor": 0,
 "worksheets": [
  {
   "cells": [
    {
     "cell_type": "markdown",
     "metadata": {},
     "source": [
      "#CATOS: Telemetry Data Analysis \n",
      "\n",
      "---\n",
      "##Nick Strayer, March 12, 2014\n",
      "\n",
      "---\n",
      "\n",
      "##Abstract: \n",
      "The University of Vermont recently received a grant to set up an acoustic telemetry project for the tracking of Lake Trout in Lake Champlain. Lake Trout in Lake Champlain have been failing to spawn since the 1970's and are as a result stocked; a large portion of the Rubenstein Ecosystem Science lab's work is devoted to figuring out the cause of this change to a native species. Small transmitters about the size a double A battery are surgically implanted into a number of fish. These transmitters send out acoustic pings at random intervals; these pings are then picked up by receivers (if they're close enough) that are placed all around Lake Champlain. The data that comes out of the receivers is then aggregated into a .csv with the information of Fish ID, Receiver, Time, and the location of that receiver in lat long coordinates. My role in this ongoing research project is to take the data, and turn it into useful information summaries and visualizations. \n",
      "\n",
      "---\n",
      "##Data: \n",
      "I work in the Rubenstein Ecosystem Science Laboratory down by the water under Professor Jason Stockwell. Recently while I was sitting in the lab a graduate student asked me for advice using excel for a new project she was working with. I quickly realized that excel was not the correct program to use and how incredibly applicable the data was to what we were working on in class. I volunteered to commandeer the data analysis for the project. \n",
      "\n",
      "The data, due to its controlled source is pretty nice and clean, however, the time stamp is in an ugly format that needed to be converted. \n",
      "\n",
      "The data comes to me in the form of 30 different .csv files, each with the name of the fish that it represents. For different parts of the project I either do the analysis by fish or over the whole. When utilizing all the fish data I loop over a list given to me of the fish names. \n",
      "\n",
      "---\n",
      "##Code/Results: \n"
     ]
    },
    {
     "cell_type": "code",
     "collapsed": false,
     "input": [
      "import csv\n",
      "import datetime\n",
      "import time \n",
      "from mpl_toolkits.basemap import Basemap"
     ],
     "language": "python",
     "metadata": {},
     "outputs": [],
     "prompt_number": 4
    },
    {
     "cell_type": "markdown",
     "metadata": {},
     "source": [
      "---\n",
      "###Export to CSV function\n",
      "I have not been able to find a good way to export data directly to a csv with a simple command so I wrote a function to do it for me. This is tailored to the CATOS data but I could(and most likely will) edit it for future needs. "
     ]
    },
    {
     "cell_type": "code",
     "collapsed": false,
     "input": [
      "def write_to_csv(list_of_dicts, title):\n",
      "    keys = list_of_dicts[0].keys()\n",
      "    file_name = \"stats/%s_results.csv\" %title\n",
      "    f = open(file_name, 'wb')\n",
      "    dict_writer = csv.DictWriter(f,keys)\n",
      "    dict_writer.writer.writerow(keys)\n",
      "    dict_writer.writerows(list_of_dicts)"
     ],
     "language": "python",
     "metadata": {},
     "outputs": [],
     "prompt_number": 5
    },
    {
     "cell_type": "markdown",
     "metadata": {},
     "source": [
      "---"
     ]
    },
    {
     "cell_type": "markdown",
     "metadata": {},
     "source": [
      "---\n",
      "###Function to rapidly read and export the individual fish data files. \n",
      "\n",
      "There are currently 30 fish in the project and that number will grow as the funding does. Because of the impracticality of individually running the fish through the function I wrote a contained function that can easily be called, automating the actual data analysis to a couple of lines in a for loop. This is also very important as this is an ongoing project so having an easy to use interface will be key to allowing people with less technical experience to operate the analysis. \n",
      "\n",
      "The time stamp data for some reason comes in with non-zero buffered numbers. To deal with this I had to pull out all single digit numbers to make them double. Not a big deal but space consuming. \n",
      "\n",
      "---\n",
      "####The big loop:\n",
      "This first checks to see **if** successive pings are both within the **prescribed time limit** and **from the same receiver**, if they are it takes the time between the pings and adds it to a elapsed time counter (elapsed time). \n",
      "\n",
      "If one of these conditions fails the loop goes to the **else** statement. In the else statement it first checks if the time elapsed was greater than the **prescribed time limit,** if this is the case it finishes the last location loop by writing to the output the receiver and the time  at the receiver, then it puts in the new time indicating the fish is \"missing\" and for how long. From here it resets the elapsed time counter and begins again. \n",
      "\n",
      "Lastly if the condition that failed the initial **if** statement wasn't that the time span was too long but in fact that the **receiver changed** it simply writes an entry to the output with the name of the receiver and the time elapsed and resets the counter.\n"
     ]
    },
    {
     "cell_type": "code",
     "collapsed": false,
     "input": [
      "def Catos_data_export(filename):\n",
      "    \"\"\"Put the name of the file in as a string W/O the .csv extention (i.e. \"Fish_X\")  \n",
      "    \"\"\"\n",
      "    \n",
      "    filename_csv = \"data/%s.csv\" %filename\n",
      "    catos_data = csv.DictReader(open(filename_csv,'rU'), quotechar = '\"', delimiter = ',')\n",
      "    data_list = []   \n",
      "    counter = 0\n",
      "    \n",
      "    for line in catos_data: \n",
      "        counter += 1\n",
      "        \n",
      "        #Fix the day!\n",
      "        line['Date and Time (UTC)'] =  line['Date and Time (UTC)'].replace(\"/1/\", \"/01/\")\n",
      "        line['Date and Time (UTC)'] =  line['Date and Time (UTC)'].replace(\"/2/\", \"/02/\")\n",
      "        line['Date and Time (UTC)'] =  line['Date and Time (UTC)'].replace(\"/3/\", \"/03/\")\n",
      "        line['Date and Time (UTC)'] =  line['Date and Time (UTC)'].replace(\"/4/\", \"/04/\")\n",
      "        line['Date and Time (UTC)'] =  line['Date and Time (UTC)'].replace(\"/5/\", \"/05/\")\n",
      "        line['Date and Time (UTC)'] =  line['Date and Time (UTC)'].replace(\"/6/\", \"/06/\")\n",
      "        line['Date and Time (UTC)'] =  line['Date and Time (UTC)'].replace(\"/7/\", \"/07/\")\n",
      "        line['Date and Time (UTC)'] =  line['Date and Time (UTC)'].replace(\"/8/\", \"/08/\")\n",
      "        line['Date and Time (UTC)'] =  line['Date and Time (UTC)'].replace(\"/9/\", \"/09/\")\n",
      "    \n",
      "        #Fix the hour!\n",
      "        line['Date and Time (UTC)'] =  line['Date and Time (UTC)'].replace(\" 0:\", \" 00:\")\n",
      "        line['Date and Time (UTC)'] =  line['Date and Time (UTC)'].replace(\" 1:\", \" 01:\")\n",
      "        line['Date and Time (UTC)'] =  line['Date and Time (UTC)'].replace(\" 2:\", \" 02:\")\n",
      "        line['Date and Time (UTC)'] =  line['Date and Time (UTC)'].replace(\" 3:\", \" 03:\")\n",
      "        line['Date and Time (UTC)'] =  line['Date and Time (UTC)'].replace(\" 4:\", \" 04:\")\n",
      "        line['Date and Time (UTC)'] =  line['Date and Time (UTC)'].replace(\" 5:\", \" 05:\")\n",
      "        line['Date and Time (UTC)'] =  line['Date and Time (UTC)'].replace(\" 6:\", \" 06:\")\n",
      "        line['Date and Time (UTC)'] =  line['Date and Time (UTC)'].replace(\" 7:\", \" 07:\")\n",
      "        line['Date and Time (UTC)'] =  line['Date and Time (UTC)'].replace(\" 8:\", \" 08:\")\n",
      "        line['Date and Time (UTC)'] =  line['Date and Time (UTC)'].replace(\" 9:\", \" 09:\")\n",
      "    \n",
      "        line['Date and Time (UTC)'] = datetime.datetime.strptime( line['Date and Time (UTC)'], \"%m/%d/%y %H:%M\" )\n",
      "        \n",
      "        data_list.append(line)\n",
      "\n",
      "    #############################################\n",
      "    #The magic Loop:\n",
      "    #############################################    \n",
      "    output = []\n",
      "    times_of_residence = []\n",
      "    elapsed_time = 0 \n",
      "    forloopcounter = 0 \n",
      "    for i in range(1,len(data_list)-1):\n",
      "        forloopcounter += 1\n",
      "    \n",
      "        if (data_list[i]['Date and Time (UTC)'] - data_list[i-1]['Date and Time (UTC)']).total_seconds() < 3600 and data_list[i]['Receivers'] == data_list[i-1]['Receivers']:\n",
      "        \n",
      "            elapsed_time += (data_list[i]['Date and Time (UTC)'] - data_list[i-1]['Date and Time (UTC)']).total_seconds()\n",
      "            current_time = (data_list[i]['Date and Time (UTC)'] - data_list[i-1]['Date and Time (UTC)']).total_seconds()\n",
      "            \n",
      "            if i == len(data_list) - 2:\n",
      "                output.append({'reciever': data_list[i-1]['Receivers'], 'residence_time': elapsed_time + current_time, \\\n",
      "                               'lat': data_list[i-1]['Latitude'], 'lon': data_list[i-1]['Longitude']})\n",
      "        \n",
      "        else:\n",
      "            current_time = (data_list[i]['Date and Time (UTC)'] - data_list[i-1]['Date and Time (UTC)']).total_seconds()\n",
      "            if (data_list[i]['Date and Time (UTC)'] - data_list[i-1]['Date and Time (UTC)']).total_seconds() > 3600: \n",
      "                output.append({'reciever': data_list[i-1]['Receivers'], 'residence_time': elapsed_time + current_time, 'lat': data_list[i-1]['Latitude'], 'lon': data_list[i-1]['Longitude']})\n",
      "                output.append({'reciever': 'missing', 'residence_time': current_time,'lat': 44, 'lon': -73})\n",
      "                elapsed_time = 0 \n",
      "            else: \n",
      "                output.append({'reciever': data_list[i-1]['Receivers'], 'residence_time': elapsed_time + current_time, 'lat': data_list[i-1]['Latitude'], 'lon': data_list[i-1]['Longitude']})\n",
      "                #reset elapsed time\n",
      "                elapsed_time = 0 \n",
      "    \n",
      "    #We force the loop to record the last entry. \n",
      "    output[-1]['residence_time'] = output[-1]['residence_time'] + ((data_list[-1]['Date and Time (UTC)'] - \\\n",
      "                                                                    data_list[-2]['Date and Time (UTC)']).total_seconds())\n",
      "    #Simultanious pings will throw stuff off if not addressed. \n",
      "    for i in range(1, len(output)):\n",
      "        if output[i]['residence_time'] == 0:\n",
      "            output[i]['reciever'] = \"%s and %s\" % (output[i-1]['reciever'], output[i]['reciever'])\n",
      "            output[i]['residence_time'] = 1\n",
      "    \n",
      "    #############################################\n",
      "    #make a list of the lats and longs:\n",
      "    #############################################\n",
      "    Lats = [float(x['lat']) for x in output]\n",
      "    Longs = [float(x['lon']) for x in output]\n",
      "    \n",
      "    #############################################\n",
      "    #Write the export to a file:\n",
      "    #############################################\n",
      "  \n",
      "    write_to_csv(output,filename)\n",
      "    \n",
      "    return output"
     ],
     "language": "python",
     "metadata": {},
     "outputs": [],
     "prompt_number": 6
    },
    {
     "cell_type": "markdown",
     "metadata": {},
     "source": [
      "---"
     ]
    },
    {
     "cell_type": "markdown",
     "metadata": {},
     "source": [
      "---\n",
      "## Output File Generation: \n",
      "\n",
      "Using a predefined list of the fish in the study loop over all of the fish and generate a .csv of the results of the loop. "
     ]
    },
    {
     "cell_type": "code",
     "collapsed": false,
     "input": [
      "#So that we can loop over the names\n",
      "Fish_Name_List= ['26805M', '26808M', '26806F', '26807M', '26797F', '26793F', '26800M', '26801M', '26803M', '26794M', '26795F', \\\n",
      "                 '26796M', '26789F', '26788F', '26790F', '26784M', '26791M', '26786F', '26785F', '26773F', '26771F', '26787M', \\\n",
      "                 '26799M', '26774M', '26778M', '26770M', '26804F', '26792F', '26802F', '26776F']\n",
      "\n",
      "#Because doing this by hand is not fun\n",
      "for fish in Fish_Name_List: \n",
      "    try:\n",
      "        Catos_data_export(fish)\n",
      "    except ValueError:\n",
      "        print fish"
     ],
     "language": "python",
     "metadata": {},
     "outputs": [],
     "prompt_number": 7
    },
    {
     "cell_type": "markdown",
     "metadata": {},
     "source": [
      "### Here is a sample of what the output produces: "
     ]
    },
    {
     "cell_type": "code",
     "collapsed": false,
     "input": [
      "test = csv.DictReader(open(\"data/26803M_results.csv\",'r'), quotechar = '\"', delimiter = ',')\n",
      "printing_vals = [] \n",
      "print \"             Receiver      Residence time (in seconds)    Lat              Long\"\n",
      "print \"          ___________________________________________________________________________________\"\n",
      "for line in test: \n",
      "    print \"%20s           %10.0f              %f        %f\" %(line['reciever'], float(line['residence_time']),\\\n",
      "                                                                                             float(line['lat']),float(line['lon']))"
     ],
     "language": "python",
     "metadata": {},
     "outputs": [
      {
       "output_type": "stream",
       "stream": "stdout",
       "text": [
        "             Receiver      Residence time (in seconds)    Lat              Long\n",
        "          ___________________________________________________________________________________\n",
        "              Gordon                 6360              44.688100        -73.353867\n",
        "             missing                 6360              44.000000        -73.000000\n",
        "              Wilcox                12480              44.701583        -73.352917\n",
        "             missing                 7260              44.000000        -73.000000\n",
        "              Gordon                 4740              44.688100        -73.353867\n",
        "             missing                 4380              44.000000        -73.000000\n",
        "              Gordon                25800              44.688100        -73.353867\n",
        "             missing                 4080              44.000000        -73.000000\n",
        "              Wilcox                10140              44.701583        -73.352917\n",
        "             missing                 4920              44.000000        -73.000000\n",
        "              Wilcox                 6720              44.701583        -73.352917\n",
        "             missing                 5760              44.000000        -73.000000\n",
        "              Wilcox                45960              44.701583        -73.352917\n",
        "             missing                 5640              44.000000        -73.000000\n",
        "              Wilcox                11520              44.701583        -73.352917\n",
        "   Wilcox and Gordon                    1              44.688100        -73.353867\n",
        "              Wilcox                20820              44.701583        -73.352917\n",
        "             missing                 6240              44.000000        -73.000000\n",
        "              Wilcox                93300              44.701583        -73.352917\n",
        "             missing                83820              44.000000        -73.000000\n",
        "              Wilcox                 5940              44.701583        -73.352917\n",
        "   Wilcox and Gordon                    1              44.688100        -73.353867\n",
        "              Wilcox                 2220              44.701583        -73.352917\n",
        "            Rockwell                   60              44.667567        -73.353900\n",
        "              Wilcox                  300              44.701583        -73.352917\n",
        "   Wilcox and Gordon                    1              44.688100        -73.353867\n",
        "              Wilcox                  120              44.701583        -73.352917\n",
        "              Gordon                12960              44.688100        -73.353867\n",
        "             missing                10980              44.000000        -73.000000\n",
        "            Rockwell               158160              44.667567        -73.353900\n",
        "             missing               155820              44.000000        -73.000000\n",
        "          Burlington                21900              44.471033        -73.232300\n",
        "             missing                 9840              44.000000        -73.000000\n",
        "          Burlington               271140              44.471033        -73.232300\n",
        "             missing               269520              44.000000        -73.000000\n",
        "             Whallon                14100              44.269317        -73.331617\n",
        "             missing                11820              44.000000        -73.000000\n",
        "             Whallon                53460              44.269317        -73.331617\n",
        "             missing                14220              44.000000        -73.000000\n",
        "             Whallon                14640              44.269317        -73.331617\n",
        "             missing                 3960              44.000000        -73.000000\n",
        "             Whallon               237780              44.269317        -73.331617\n",
        "             missing               182520              44.000000        -73.000000\n"
       ]
      }
     ],
     "prompt_number": 41
    },
    {
     "cell_type": "markdown",
     "metadata": {},
     "source": [
      "---"
     ]
    },
    {
     "cell_type": "markdown",
     "metadata": {},
     "source": [
      "---\n",
      "## Average residence times by gender: \n",
      "As the point of this project is to help figure out why fish are not properly breeding it is obvious why it is important to figure out the differences between female and male fish. This function takes a fish file and adds the residence times by receiver. Note: This is why dictionaries are awesome. "
     ]
    },
    {
     "cell_type": "code",
     "collapsed": false,
     "input": [
      "def Catos_reciever_avg(filename):\n",
      "    \n",
      "    cummulative_res_dict = {} \n",
      "    output = Catos_data_export(filename)\n",
      "    \n",
      "    for line in output: \n",
      "        try: \n",
      "            cummulative_res_dict[line['reciever']] = cummulative_res_dict[line['reciever']] + line['residence_time'] \n",
      "        except KeyError:  #If there is no predefined value for this entry it wont be able to call it in the equation\n",
      "            cummulative_res_dict[line['reciever']] = line['residence_time'] \n",
      "            \n",
      "        #Takes the old time value and adds the new time to it. \n",
      "    \n",
      "    return cummulative_res_dict "
     ],
     "language": "python",
     "metadata": {},
     "outputs": [],
     "prompt_number": 42
    },
    {
     "cell_type": "markdown",
     "metadata": {},
     "source": [
      "We test it to make sure it works properly:"
     ]
    },
    {
     "cell_type": "code",
     "collapsed": false,
     "input": [
      "Catos_reciever_avg(\"26807M\")"
     ],
     "language": "python",
     "metadata": {},
     "outputs": [
      {
       "metadata": {},
       "output_type": "pyout",
       "prompt_number": 43,
       "text": [
        "{'Arnold': 9420.0,\n",
        " 'Burlington': 295560.0,\n",
        " 'Gordon': 403140.0,\n",
        " 'Gordon and Rockwell': 1,\n",
        " 'Rockwell': 247440.0,\n",
        " 'Whallon': 168000.0,\n",
        " 'Wilcox': 79200.0,\n",
        " 'missing': 890040.0}"
       ]
      }
     ],
     "prompt_number": 43
    },
    {
     "cell_type": "markdown",
     "metadata": {},
     "source": [
      "Now let's write a function to average these values and run it through all of the fish:"
     ]
    },
    {
     "cell_type": "code",
     "collapsed": false,
     "input": [
      "male_fish_list = ['26805M', '26808M', '26807M', '26800M', '26801M', '26803M', '26794M', '26796M', '26784M', '26791M', '26787M', \\\n",
      "                 '26799M', '26774M', '26778M', '26770M']\n",
      "\n",
      "female_fish_list = ['26806F', '26797F', '26793F', '26795F', '26789F', '26788F', '26790F', '26786F', '26785F', '26773F', '26771F',  \\\n",
      "                 '26804F', '26792F', '26802F', '26776F']\n",
      "#######\n",
      "def fish_residence_times(fish_list): \n",
      "    fish_residence_times = []\n",
      "    \n",
      "    for fish in fish_list: \n",
      "        fish_residence_times.append(Catos_reciever_avg(fish)) \n",
      "    \n",
      "    recievers_avg ={}\n",
      "\n",
      "    for line in fish_residence_times: \n",
      "        keys = line.keys()\n",
      "        for key in keys: \n",
      "            try: \n",
      "                recievers_avg[key].append(line[key]) \n",
      "            except KeyError: \n",
      "                recievers_avg[key] = [line[key]] \n",
      "\n",
      "    for key in recievers_avg.keys():\n",
      "        recievers_avg[key] = mean(recievers_avg[key])\n",
      "    return recievers_avg\n",
      "#########  \n",
      "\n",
      "male_residence_averages = fish_residence_times(male_fish_list)\n",
      "female_residence_averages = fish_residence_times(female_fish_list)"
     ],
     "language": "python",
     "metadata": {},
     "outputs": [],
     "prompt_number": 44
    },
    {
     "cell_type": "markdown",
     "metadata": {},
     "source": [
      "Let's plot to see the differences:"
     ]
    },
    {
     "cell_type": "code",
     "collapsed": false,
     "input": [
      "print \"                           Key           Female             Male      Difference\" \n",
      "print \"________________________________________________________________________________\"\n",
      "for key in female_residence_averages.keys(): \n",
      "    try: \n",
      "        print \"%30s       %10.3f       %10.3f      %10.3f\" %(key, female_residence_averages[key], male_residence_averages[key],\\\n",
      "                                             abs(female_residence_averages[key] - male_residence_averages[key]))\n",
      "    except KeyError: \n",
      "        pass "
     ],
     "language": "python",
     "metadata": {},
     "outputs": [
      {
       "output_type": "stream",
       "stream": "stdout",
       "text": [
        "                           Key           Female             Male      Difference\n",
        "________________________________________________________________________________\n",
        "           Gordon and Rockwell            2.667            5.222           2.556\n",
        "Wilcox and Rockwell and Gordon            1.000            1.000           0.000\n",
        "                        Wilcox       242934.000       113800.000      129134.000\n",
        "                       missing       707180.000       521700.000      185480.000\n",
        "              Island Line West       372000.000       140708.571      231291.429\n",
        "                      Rockwell       190455.000       164125.000       26330.000\n",
        "                       Whallon       420480.000       207120.000      213360.000\n",
        "           Rockwell and Gordon            1.000            1.000           0.000\n",
        "                    Burlington        79695.000       327225.000      247530.000\n",
        "                        Gordon       305836.000       440712.000      134876.000\n",
        "           Wilcox and Rockwell            2.500            1.500           1.000\n",
        "             Wilcox and Gordon            8.000            6.000           2.000\n",
        "              Island Line East       356850.000         2160.000      354690.000\n"
       ]
      }
     ],
     "prompt_number": 45
    },
    {
     "cell_type": "markdown",
     "metadata": {},
     "source": [
      "---"
     ]
    },
    {
     "cell_type": "markdown",
     "metadata": {},
     "source": [
      "---\n",
      "##Animation: \n",
      "\n",
      "In a tracking project it is always nice to actually be able to get a picture of the actual path that the fish takes through the lake. In all of my attempts there does not seem to be a particularly elegant (and simple enough for me to understand) way of plotting animated trajectories in python. To deal with this I channeled my inner redditor and decided to go with a .gif. As a .gif is basically a video all I needed to do was generate the frames by making a bunch of plots and putting it together in an external .gif generator.  \n",
      "\n"
     ]
    },
    {
     "cell_type": "markdown",
     "metadata": {},
     "source": [
      "### Break down the results from the original function to make it plotable:\n",
      "\n",
      "In order to make the path visible the plotting points alternate color between red and white while the fish is present at a receiver and then once it leaves the point turns black. This way you (even if you are color blind, an easy to forget yet important thing) can see where the fish is and where it has been. \n",
      "\n",
      "Due to the temporal scale if a blip represented a small interval of time such as a minute the .gif would last dozens of minutes. The interval of the blips is arbitrarily chosen. Due to the temporal scale some of the receivers were not attended for very long at all, in this case the loop automatically bumps up their representation to one \"blip\". This assures they show up in the animation but slightly distorts the timeframe. \n",
      "\n",
      "The fish that are being plotted are chosen as they have more interesting paths than the other fish (going farther or jumping around more.) In the future when the sensor network is higher resolution the paths will be unique enough that multiple fish paths will be able to be plotted on top of each other. At this point if that was attempted there would be no way to distinguish between fish, as the paths would overlap so much."
     ]
    },
    {
     "cell_type": "code",
     "collapsed": false,
     "input": [
      "output = Catos_data_export(\"26803M\")\n",
      "#output = Catos_data_export(\"26776F\") #Uncomment depending upon which fish is being used\n",
      "plot_animation_vals = []\n",
      "blip_num = 0\n",
      "time_counter = 0\n",
      "\n",
      "for entry in output: \n",
      "   \n",
      "    blip_num = int(round(entry['residence_time'] / (60*60))) #arbitrarily choosing an hour.\n",
      "    if blip_num == 0: #Allows short intervals to show up in animation. \n",
      "        blip_num += 1\n",
      "    \n",
      "    for i in range(0, blip_num+1): \n",
      "        time_counter += 1\n",
      "        if i == blip_num: \n",
      "           plot_animation_vals.append({'location_lat': float(entry['lat']), 'location_lon': float(entry['lon']), \\\n",
      "                                        'reciever': entry['reciever'], 'ploting_color': \"ko\", \\\n",
      "                                        \"time\":time_counter}) \n",
      "            \n",
      "        else: \n",
      "            if i % 2 == 0: \n",
      "                plot_animation_vals.append({'location_lat': float(entry['lat']), 'location_lon': float(entry['lon']), \\\n",
      "                                            'reciever': entry['reciever'], 'ploting_color': \"wo\", \\\n",
      "                                            \"time\":time_counter})\n",
      "            else: \n",
      "                plot_animation_vals.append({'location_lat': float(entry['lat']), 'location_lon': float(entry['lon']), \\\n",
      "                                            'reciever': entry['reciever'], 'ploting_color': \"ro\", \\\n",
      "                                            \"time\":time_counter})\n",
      "\n",
      "print(plot_animation_vals[-1])\n",
      "len(plot_animation_vals) #lets us see the number of frames in the .gif. "
     ],
     "language": "python",
     "metadata": {},
     "outputs": [
      {
       "output_type": "stream",
       "stream": "stdout",
       "text": [
        "{'ploting_color': 'ko', 'location_lon': -73.37463333, 'reciever': 'Arnold', 'time': 557, 'location_lat': 44.15093333}\n"
       ]
      },
      {
       "metadata": {},
       "output_type": "pyout",
       "prompt_number": 46,
       "text": [
        "557"
       ]
      }
     ],
     "prompt_number": 46
    },
    {
     "cell_type": "markdown",
     "metadata": {},
     "source": [
      "##Now for the frame generation! \n",
      "###Be prepared for your computer to slow\n"
     ]
    },
    {
     "cell_type": "code",
     "collapsed": false,
     "input": [
      "plt.close() #Clears opened files in case. \n",
      "fish = '26803M' \n",
      "#fish = '26778F'\n",
      "\n",
      "m = Basemap(projection='cyl', llcrnrlat=43.5, urcrnrlat=45.3,llcrnrlon=-74, urcrnrlon=-72.7, resolution='i', area_thresh=100.0)\n",
      "m.drawrivers()\n",
      "s = m.readshapefile('data/LakeChamplain/LakeChamplain', 'LakeChamplain') #Shapefile\n",
      "plt.gcf().set_size_inches(7,10)\n",
      "\n",
      "annotate(\"Out of range\", xy = (-73, 44), xytext = (-74, 43.5),textcoords='offset points', ha='center', va='bottom', \\\n",
      "             bbox=dict(boxstyle='round,pad=0.2', fc='blue', alpha=0.3), \\\n",
      "             arrowprops=dict(arrowstyle='->', connectionstyle='arc3,rad=0.5', color='red'))\n",
      "legend([fish])\n",
      "\n",
      "counter = 0\n",
      "for point in plot_animation_vals: \n",
      "    counter +=1 \n",
      "    plt.plot(point['location_lon'], point['location_lat'], '%s' %point['ploting_color'], markeredgecolor='none')\n",
      "    title(\"Time (in hours): %i\" % point['time'])\n",
      "    filename = \"stats/CATOS_%s_animation/animated_frame_%i\" % (fish,counter)\n",
      "    pylab.savefig(filename,dpi=70)"
     ],
     "language": "python",
     "metadata": {},
     "outputs": [
      {
       "metadata": {},
       "output_type": "display_data",
       "png": "[encoded data removed]",
       "text": [
        "<matplotlib.figure.Figure at 0x10c13a2d0>"
       ]
      }
     ],
     "prompt_number": 179
    },
    {
     "cell_type": "markdown",
     "metadata": {},
     "source": [
      "##Animation of fish 26803M path: \n",
      "![26803](http://www.uvm.edu/~nstrayer/CATOS/CATOS_26803M_Animation.gif)"
     ]
    },
    {
     "cell_type": "markdown",
     "metadata": {},
     "source": [
      "##Animation of fish 26776F path: \n",
      "![26776](http://www.uvm.edu/~nstrayer/CATOS/CATOS_26776F_Animation.gif)"
     ]
    },
    {
     "cell_type": "markdown",
     "metadata": {},
     "source": [
      "---\n",
      "##A visualization of average residence times for male fish at a given receiver:"
     ]
    },
    {
     "cell_type": "code",
     "collapsed": false,
     "input": [
      "male_scatter_plot_vals = []\n",
      "\n",
      "for key in male_residence_averages.keys():\n",
      "    if \"and\" in  key:\n",
      "        pass #the simultanious pings are not applicable to this so they are removed. \n",
      "    else:\n",
      "        male_scatter_plot_vals.append({'receiver': key, 'time': male_residence_averages[key]})\n",
      "        \n",
      "lat_lon_pulls =  plot_animation_vals #Went to all of the receivers\n",
      "place_counter = 0\n",
      "for item in male_scatter_plot_vals: \n",
      "    try:\n",
      "        while lat_lon_pulls[place_counter]['reciever'] != item['receiver']:\n",
      "            place_counter += 1\n",
      "    \n",
      "        item['lat'] = lat_lon_pulls[place_counter]['location_lat'] \n",
      "        item['lon'] = lat_lon_pulls[place_counter]['location_lon'] \n",
      "        \n",
      "    except IndexError: \n",
      "        place_counter = 0\n",
      "\n",
      "#for some reason I can't get the loop to pick up lat long points, luckily it's just one receiver. \n",
      "male_scatter_plot_vals[4]['lat'] = 44.471033\n",
      "male_scatter_plot_vals[4]['lon'] = -73.232300"
     ],
     "language": "python",
     "metadata": {},
     "outputs": [],
     "prompt_number": 39
    },
    {
     "cell_type": "code",
     "collapsed": false,
     "input": [
      "m = Basemap(projection='cyl', llcrnrlat=43.5, urcrnrlat=45.3,llcrnrlon=-74, urcrnrlon=-72.7, resolution='i', area_thresh=100.0)\n",
      "m.drawrivers()\n",
      "s = m.readshapefile('data/LakeChamplain/LakeChamplain', 'LakeChamplain') #Shapefile\n",
      "plt.gcf().set_size_inches(7,10)\n",
      "\n",
      "for loc in male_scatter_plot_vals: \n",
      "    try:\n",
      "        plt.scatter(loc['lon'], loc['lat'], s = loc['time']/male_scatter_plot_vals[3]['time']*3,alpha=0.5)\n",
      "    except KeyError:\n",
      "        pass"
     ],
     "language": "python",
     "metadata": {},
     "outputs": [
      {
       "metadata": {},
       "output_type": "display_data",
       "png": "[encoded data removed]",
       "text": [
        "<matplotlib.figure.Figure at 0x10e6a5650>"
       ]
      }
     ],
     "prompt_number": 64
    },
    {
     "cell_type": "markdown",
     "metadata": {},
     "source": [
      "##Conclusions: \n",
      "Very frequently in science you will spend weeks, months, or even years working on a project all to get to the culmination of actually compiling the data to find... there is nothing significant. This is the most deflating feeling, in the case of this project... that actually _didn't_ happen. As can be seen in the residence time average comparison there are specific sites that are very female biased or very male biased. This is incredibly interesting and important as that goes against commonly accepted ideas that male and female fish stick together and given that the goal of the project is to figure out why lake trout spawning is failing, clearly is an important thing to see. In addition the animations succeed in being a very easy to digest way of following a fish through the lake. Already these animations have been passed around the lab and to other fisheries labs. \n",
      "\n",
      "This really is the tip of the iceberg for the CATOS project and my involvement with it. This project represents my first couple of weeks with the data and also a fraction of the data we are about to receive. This data represents 20 days; soon we will be pulling four months worth of data from the receivers. In many ways I am setting up the project for continued use by others once I am gone from UVM. This is my motivation for automating so much of the project into functions. As the project expands in the coming months I will be able to preform more interesting analyses. Right now there are 30 total fish, 15 males and 15 females. These are not high enough numbers to be accepted in the world of peer-reviewed ecology for broad conclusions about entire populations. Soon more fish will be added and more advanced statistical analysis will be able to be preformed. Another expansion that will occur will be the inclusion of more receivers, this increase in resolution, as mentioned before, will allow for more detailed path analysis. One of the benefits of increased resolution will be watching all the male fish spread out over the lake juxtaposed with the female fish path. From these advances in the infrastructure very valuable insights will be made."
     ]
    },
    {
     "cell_type": "code",
     "collapsed": false,
     "input": [],
     "language": "python",
     "metadata": {},
     "outputs": []
    }
   ],
   "metadata": {}
  }
 ]
}